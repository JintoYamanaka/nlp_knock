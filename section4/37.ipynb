{
 "cells": [
  {
   "cell_type": "code",
   "execution_count": 2,
   "metadata": {},
   "outputs": [],
   "source": [
    "from mymodule import create_morphemes\n",
    "from mymodule import create_words"
   ]
  },
  {
   "cell_type": "code",
   "execution_count": 3,
   "metadata": {},
   "outputs": [
    {
     "data": {
      "text/plain": [
       "[('の', 9194),\n",
       " ('。', 7486),\n",
       " ('て', 6873),\n",
       " ('、', 6772),\n",
       " ('は', 6422),\n",
       " ('に', 6268),\n",
       " ('を', 6071),\n",
       " ('と', 5515),\n",
       " ('が', 5339),\n",
       " ('た', 3989)]"
      ]
     },
     "execution_count": 3,
     "metadata": {},
     "output_type": "execute_result"
    }
   ],
   "source": [
    "morphemes = create_morphemes()\n",
    "words = create_words(morphemes)\n",
    "words[0:10]"
   ]
  },
  {
   "cell_type": "code",
   "execution_count": 4,
   "metadata": {},
   "outputs": [],
   "source": [
    "import matplotlib.pyplot as plt\n",
    "% matplotlib inline"
   ]
  },
  {
   "cell_type": "code",
   "execution_count": 18,
   "metadata": {},
   "outputs": [
    {
     "data": {
      "image/png": "[encoded data removed]",
      "text/plain": [
       "<Figure size 432x288 with 1 Axes>"
      ]
     },
     "metadata": {
      "needs_background": "light"
     },
     "output_type": "display_data"
    }
   ],
   "source": [
    "'''\n",
    "matplotlib.pyplot.bar(left, height)\n",
    "left (必須)：各棒の X 軸上の数値\n",
    "height (必須)：各棒の高さ\n",
    "\n",
    "他にも引数は多くある、随時チェック\n",
    "'''\n",
    "\n",
    "left = [word_set[0] for word_set in words[0:10]]\n",
    "height = [word_set[1] for word_set in words[0:10]]\n",
    "\n",
    "plt.bar(left, height)\n",
    "# グラフのタイトル、ラベル指定\n",
    "plt.title(\"37. 頻度上位10語\")\n",
    "plt.xlabel(\"出現頻度が高い10語\")\n",
    "plt.ylabel(\"出現頻度\")\n",
    "# plt.rcParams[\"font.size\"] = 13\n",
    "plt.show()"
   ]
  },
  {
   "cell_type": "code",
   "execution_count": null,
   "metadata": {},
   "outputs": [],
   "source": []
  }
 ],
 "metadata": {
  "kernelspec": {
   "display_name": "Python 3",
   "language": "python",
   "name": "python3"
  },
  "language_info": {
   "codemirror_mode": {
    "name": "ipython",
    "version": 3
   },
   "file_extension": ".py",
   "mimetype": "text/x-python",
   "name": "python",
   "nbconvert_exporter": "python",
   "pygments_lexer": "ipython3",
   "version": "3.7.0"
  }
 },
 "nbformat": 4,
 "nbformat_minor": 2
}
