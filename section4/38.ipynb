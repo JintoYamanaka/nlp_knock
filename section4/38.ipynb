{
 "cells": [
  {
   "cell_type": "code",
   "execution_count": 1,
   "metadata": {},
   "outputs": [],
   "source": [
    "from mymodule import create_morphemes\n",
    "from mymodule import create_words\n",
    "import matplotlib.pyplot as plt\n",
    "% matplotlib inline"
   ]
  },
  {
   "cell_type": "code",
   "execution_count": 2,
   "metadata": {},
   "outputs": [
    {
     "data": {
      "text/plain": [
       "[('の', 9194),\n",
       " ('。', 7486),\n",
       " ('て', 6873),\n",
       " ('、', 6772),\n",
       " ('は', 6422),\n",
       " ('に', 6268),\n",
       " ('を', 6071),\n",
       " ('と', 5515),\n",
       " ('が', 5339),\n",
       " ('た', 3989)]"
      ]
     },
     "execution_count": 2,
     "metadata": {},
     "output_type": "execute_result"
    }
   ],
   "source": [
    "morphemes = create_morphemes()\n",
    "words = create_words(morphemes)\n",
    "words[0:10]"
   ]
  },
  {
   "cell_type": "code",
   "execution_count": 15,
   "metadata": {},
   "outputs": [
    {
     "data": {
      "image/png": "[encoded data removed]",
      "text/plain": [
       "<Figure size 432x288 with 1 Axes>"
      ]
     },
     "metadata": {
      "needs_background": "light"
     },
     "output_type": "display_data"
    }
   ],
   "source": [
    "'''\n",
    "matplotlibでヒストグラム\n",
    "matplotlib.pyplot.hist(x, bins=10, range=None)\n",
    "x (必須)：ヒストグラムを作成するための生データの配列\n",
    "bins：ビン (表示する棒) の数。階級数。(デフォルト値: 10)\n",
    "range：ビンの最小値と最大値を指定。(デフォルト値: (x.min(), x.max()))\n",
    "\n",
    "他にも引数は多くある、随時チェック\n",
    "'''\n",
    "\n",
    "x = [word[1] for word in words]\n",
    "bins = 20\n",
    "plt.rcParams[\"font.size\"] = 13\n",
    "plt.hist(x, bins, range=(1, 20))\n",
    "plt.title(\"38.ヒストグラム\")\n",
    "plt.xlabel(\"出現頻度（回数）\")\n",
    "plt.ylabel(\"出現頻度順位\")\n",
    "plt.show()"
   ]
  },
  {
   "cell_type": "code",
   "execution_count": null,
   "metadata": {},
   "outputs": [],
   "source": []
  }
 ],
 "metadata": {
  "kernelspec": {
   "display_name": "Python 3",
   "language": "python",
   "name": "python3"
  },
  "language_info": {
   "codemirror_mode": {
    "name": "ipython",
    "version": 3
   },
   "file_extension": ".py",
   "mimetype": "text/x-python",
   "name": "python",
   "nbconvert_exporter": "python",
   "pygments_lexer": "ipython3",
   "version": "3.7.0"
  }
 },
 "nbformat": 4,
 "nbformat_minor": 2
}
