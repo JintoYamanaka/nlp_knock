{
 "cells": [
  {
   "cell_type": "code",
   "execution_count": 4,
   "metadata": {},
   "outputs": [],
   "source": [
    "with open(\"hightemp.txt\") as data_file, \\\n",
    "    open(\"col1.txt\", mode=\"w\") as col1_file, \\\n",
    "    open(\"col2.txt\", mode=\"w\") as col2_file:   # open のデフォルトモードは\"r\"\n",
    "    for line in data_file:\n",
    "        col1 = line.split(\"\\t\")[0]\n",
    "        col2 = line.split(\"\\t\")[1]\n",
    "        col1_file.write(col1 + \"\\n\")\n",
    "        col2_file.write(col2 + \"\\n\")"
   ]
  },
  {
   "cell_type": "code",
   "execution_count": null,
   "metadata": {},
   "outputs": [],
   "source": []
  }
 ],
 "metadata": {
  "kernelspec": {
   "display_name": "Python 3",
   "language": "python",
   "name": "python3"
  },
  "language_info": {
   "codemirror_mode": {
    "name": "ipython",
    "version": 3
   },
   "file_extension": ".py",
   "mimetype": "text/x-python",
   "name": "python",
   "nbconvert_exporter": "python",
   "pygments_lexer": "ipython3",
   "version": "3.7.0"
  }
 },
 "nbformat": 4,
 "nbformat_minor": 2
}
