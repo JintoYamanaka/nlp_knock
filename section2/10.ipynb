{
 "cells": [
  {
   "cell_type": "code",
   "execution_count": 9,
   "metadata": {},
   "outputs": [
    {
     "name": "stdout",
     "output_type": "stream",
     "text": [
      "24\n"
     ]
    }
   ],
   "source": [
    "import pandas as pd\n",
    "\n",
    "input_file = pd.read_csv(\"hightemp.txt\", header=None)\n",
    "print(len(input_file))"
   ]
  },
  {
   "cell_type": "code",
   "execution_count": 8,
   "metadata": {
    "scrolled": true
   },
   "outputs": [
    {
     "data": {
      "text/html": [
       "<div>\n",
       "<style scoped>\n",
       "    .dataframe tbody tr th:only-of-type {\n",
       "        vertical-align: middle;\n",
       "    }\n",
       "\n",
       "    .dataframe tbody tr th {\n",
       "        vertical-align: top;\n",
       "    }\n",
       "\n",
       "    .dataframe thead th {\n",
       "        text-align: right;\n",
       "    }\n",
       "</style>\n",
       "<table border=\"1\" class=\"dataframe\">\n",
       "  <thead>\n",
       "    <tr style=\"text-align: right;\">\n",
       "      <th></th>\n",
       "      <th>0</th>\n",
       "    </tr>\n",
       "  </thead>\n",
       "  <tbody>\n",
       "    <tr>\n",
       "      <th>0</th>\n",
       "      <td>高知県\\t江川崎\\t41\\t2013-08-12</td>\n",
       "    </tr>\n",
       "    <tr>\n",
       "      <th>1</th>\n",
       "      <td>埼玉県\\t熊谷\\t40.9\\t2007-08-16</td>\n",
       "    </tr>\n",
       "    <tr>\n",
       "      <th>2</th>\n",
       "      <td>岐阜県\\t多治見\\t40.9\\t2007-08-16</td>\n",
       "    </tr>\n",
       "    <tr>\n",
       "      <th>3</th>\n",
       "      <td>山形県\\t山形\\t40.8\\t1933-07-25</td>\n",
       "    </tr>\n",
       "    <tr>\n",
       "      <th>4</th>\n",
       "      <td>山梨県\\t甲府\\t40.7\\t2013-08-10</td>\n",
       "    </tr>\n",
       "    <tr>\n",
       "      <th>5</th>\n",
       "      <td>和歌山県\\tかつらぎ\\t40.6\\t1994-08-08</td>\n",
       "    </tr>\n",
       "    <tr>\n",
       "      <th>6</th>\n",
       "      <td>静岡県\\t天竜\\t40.6\\t1994-08-04</td>\n",
       "    </tr>\n",
       "    <tr>\n",
       "      <th>7</th>\n",
       "      <td>山梨県\\t勝沼\\t40.5\\t2013-08-10</td>\n",
       "    </tr>\n",
       "    <tr>\n",
       "      <th>8</th>\n",
       "      <td>埼玉県\\t越谷\\t40.4\\t2007-08-16</td>\n",
       "    </tr>\n",
       "    <tr>\n",
       "      <th>9</th>\n",
       "      <td>群馬県\\t館林\\t40.3\\t2007-08-16</td>\n",
       "    </tr>\n",
       "    <tr>\n",
       "      <th>10</th>\n",
       "      <td>群馬県\\t上里見\\t40.3\\t1998-07-04</td>\n",
       "    </tr>\n",
       "    <tr>\n",
       "      <th>11</th>\n",
       "      <td>愛知県\\t愛西\\t40.3\\t1994-08-05</td>\n",
       "    </tr>\n",
       "    <tr>\n",
       "      <th>12</th>\n",
       "      <td>千葉県\\t牛久\\t40.2\\t2004-07-20</td>\n",
       "    </tr>\n",
       "    <tr>\n",
       "      <th>13</th>\n",
       "      <td>静岡県\\t佐久間\\t40.2\\t2001-07-24</td>\n",
       "    </tr>\n",
       "    <tr>\n",
       "      <th>14</th>\n",
       "      <td>愛媛県\\t宇和島\\t40.2\\t1927-07-22</td>\n",
       "    </tr>\n",
       "    <tr>\n",
       "      <th>15</th>\n",
       "      <td>山形県\\t酒田\\t40.1\\t1978-08-03</td>\n",
       "    </tr>\n",
       "    <tr>\n",
       "      <th>16</th>\n",
       "      <td>岐阜県\\t美濃\\t40\\t2007-08-16</td>\n",
       "    </tr>\n",
       "    <tr>\n",
       "      <th>17</th>\n",
       "      <td>群馬県\\t前橋\\t40\\t2001-07-24</td>\n",
       "    </tr>\n",
       "    <tr>\n",
       "      <th>18</th>\n",
       "      <td>千葉県\\t茂原\\t39.9\\t2013-08-11</td>\n",
       "    </tr>\n",
       "    <tr>\n",
       "      <th>19</th>\n",
       "      <td>埼玉県\\t鳩山\\t39.9\\t1997-07-05</td>\n",
       "    </tr>\n",
       "    <tr>\n",
       "      <th>20</th>\n",
       "      <td>大阪府\\t豊中\\t39.9\\t1994-08-08</td>\n",
       "    </tr>\n",
       "    <tr>\n",
       "      <th>21</th>\n",
       "      <td>山梨県\\t大月\\t39.9\\t1990-07-19</td>\n",
       "    </tr>\n",
       "    <tr>\n",
       "      <th>22</th>\n",
       "      <td>山形県\\t鶴岡\\t39.9\\t1978-08-03</td>\n",
       "    </tr>\n",
       "    <tr>\n",
       "      <th>23</th>\n",
       "      <td>愛知県\\t名古屋\\t39.9\\t1942-08-02</td>\n",
       "    </tr>\n",
       "  </tbody>\n",
       "</table>\n",
       "</div>"
      ],
      "text/plain": [
       "                               0\n",
       "0       高知県\\t江川崎\\t41\\t2013-08-12\n",
       "1      埼玉県\\t熊谷\\t40.9\\t2007-08-16\n",
       "2     岐阜県\\t多治見\\t40.9\\t2007-08-16\n",
       "3      山形県\\t山形\\t40.8\\t1933-07-25\n",
       "4      山梨県\\t甲府\\t40.7\\t2013-08-10\n",
       "5   和歌山県\\tかつらぎ\\t40.6\\t1994-08-08\n",
       "6      静岡県\\t天竜\\t40.6\\t1994-08-04\n",
       "7      山梨県\\t勝沼\\t40.5\\t2013-08-10\n",
       "8      埼玉県\\t越谷\\t40.4\\t2007-08-16\n",
       "9      群馬県\\t館林\\t40.3\\t2007-08-16\n",
       "10    群馬県\\t上里見\\t40.3\\t1998-07-04\n",
       "11     愛知県\\t愛西\\t40.3\\t1994-08-05\n",
       "12     千葉県\\t牛久\\t40.2\\t2004-07-20\n",
       "13    静岡県\\t佐久間\\t40.2\\t2001-07-24\n",
       "14    愛媛県\\t宇和島\\t40.2\\t1927-07-22\n",
       "15     山形県\\t酒田\\t40.1\\t1978-08-03\n",
       "16       岐阜県\\t美濃\\t40\\t2007-08-16\n",
       "17       群馬県\\t前橋\\t40\\t2001-07-24\n",
       "18     千葉県\\t茂原\\t39.9\\t2013-08-11\n",
       "19     埼玉県\\t鳩山\\t39.9\\t1997-07-05\n",
       "20     大阪府\\t豊中\\t39.9\\t1994-08-08\n",
       "21     山梨県\\t大月\\t39.9\\t1990-07-19\n",
       "22     山形県\\t鶴岡\\t39.9\\t1978-08-03\n",
       "23    愛知県\\t名古屋\\t39.9\\t1942-08-02"
      ]
     },
     "execution_count": 8,
     "metadata": {},
     "output_type": "execute_result"
    }
   ],
   "source": [
    "input_file"
   ]
  },
  {
   "cell_type": "code",
   "execution_count": 13,
   "metadata": {},
   "outputs": [
    {
     "name": "stdout",
     "output_type": "stream",
     "text": [
      "24\n"
     ]
    }
   ],
   "source": [
    "fname = 'hightemp.txt'\n",
    "count = 0\n",
    "with open(fname) as data_file: # with構文\n",
    "    for line in data_file: # ファイルを一行ずつ読み込む\n",
    "#         print(line)\n",
    "        count += 1\n",
    "print(count)"
   ]
  },
  {
   "cell_type": "code",
   "execution_count": null,
   "metadata": {},
   "outputs": [],
   "source": []
  }
 ],
 "metadata": {
  "kernelspec": {
   "display_name": "Python 3",
   "language": "python",
   "name": "python3"
  },
  "language_info": {
   "codemirror_mode": {
    "name": "ipython",
    "version": 3
   },
   "file_extension": ".py",
   "mimetype": "text/x-python",
   "name": "python",
   "nbconvert_exporter": "python",
   "pygments_lexer": "ipython3",
   "version": "3.7.0"
  }
 },
 "nbformat": 4,
 "nbformat_minor": 2
}
