{
 "cells": [
  {
   "cell_type": "code",
   "execution_count": 5,
   "metadata": {},
   "outputs": [
    {
     "name": "stdout",
     "output_type": "stream",
     "text": [
      "{'大阪府', '岐阜県', '山梨県', '愛知県', '和歌山県', '千葉県', '埼玉県', '山形県', '高知県', '群馬県', '愛媛県', '静岡県'}\n"
     ]
    }
   ],
   "source": [
    "with open(\"hightemp.txt\") as data_file:\n",
    "    col1 = []\n",
    "    for line in data_file:\n",
    "        col1.append(line.split(\"\\t\")[0])\n",
    "    col1_unique = set(col1)  # set型は重複要素を持たない\n",
    "    print(col1_unique)"
   ]
  },
  {
   "cell_type": "code",
   "execution_count": null,
   "metadata": {},
   "outputs": [],
   "source": []
  }
 ],
 "metadata": {
  "kernelspec": {
   "display_name": "Python 3",
   "language": "python",
   "name": "python3"
  },
  "language_info": {
   "codemirror_mode": {
    "name": "ipython",
    "version": 3
   },
   "file_extension": ".py",
   "mimetype": "text/x-python",
   "name": "python",
   "nbconvert_exporter": "python",
   "pygments_lexer": "ipython3",
   "version": "3.7.0"
  }
 },
 "nbformat": 4,
 "nbformat_minor": 2
}
