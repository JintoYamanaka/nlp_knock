{
 "cells": [
  {
   "cell_type": "code",
   "execution_count": 5,
   "metadata": {},
   "outputs": [
    {
     "name": "stdout",
     "output_type": "stream",
     "text": [
      "行数を指定して下さい：5\n",
      "高知県\t江川崎\n",
      "埼玉県\t熊谷\n",
      "岐阜県\t多治見\n",
      "山形県\t山形\n",
      "山梨県\t甲府\n"
     ]
    }
   ],
   "source": [
    "N = int(input(\"行数を指定して下さい：\"))\n",
    "\n",
    "with open(\"merge.txt\") as data_file:\n",
    "    for i, line in enumerate(data_file):\n",
    "        if i < N:\n",
    "            # print(line, end=\"\")\n",
    "            print(line.rstrip())"
   ]
  },
  {
   "cell_type": "code",
   "execution_count": null,
   "metadata": {},
   "outputs": [],
   "source": []
  }
 ],
 "metadata": {
  "kernelspec": {
   "display_name": "Python 3",
   "language": "python",
   "name": "python3"
  },
  "language_info": {
   "codemirror_mode": {
    "name": "ipython",
    "version": 3
   },
   "file_extension": ".py",
   "mimetype": "text/x-python",
   "name": "python",
   "nbconvert_exporter": "python",
   "pygments_lexer": "ipython3",
   "version": "3.7.0"
  }
 },
 "nbformat": 4,
 "nbformat_minor": 2
}
