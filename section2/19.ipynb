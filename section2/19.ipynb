{
 "cells": [
  {
   "cell_type": "code",
   "execution_count": 35,
   "metadata": {
    "scrolled": true
   },
   "outputs": [
    {
     "name": "stdout",
     "output_type": "stream",
     "text": [
      "('埼玉県', 3)\n",
      "('山形県', 3)\n",
      "('山梨県', 3)\n",
      "('群馬県', 3)\n",
      "('千葉県', 2)\n",
      "('岐阜県', 2)\n",
      "('愛知県', 2)\n",
      "('静岡県', 2)\n",
      "('和歌山県', 1)\n",
      "('大阪府', 1)\n",
      "('愛媛県', 1)\n",
      "('高知県', 1)\n"
     ]
    }
   ],
   "source": [
    "from itertools import groupby\n",
    "\n",
    "lines = open(\"hightemp.txt\").readlines()\n",
    "col1 = [line.split('\\t')[0] for line in lines]\n",
    "col1.sort()\n",
    "results = []\n",
    "for pre, group in groupby(col1):\n",
    "    # print(\"pre：\"+pre)\n",
    "    count = len(list(group))\n",
    "    # print(count)\n",
    "    results.append((pre, count))\n",
    "results.sort(key=lambda x:x[1], reverse=True)\n",
    "# print(results)\n",
    "for result in results:\n",
    "    print(result)"
   ]
  },
  {
   "cell_type": "code",
   "execution_count": 37,
   "metadata": {},
   "outputs": [
    {
     "name": "stdout",
     "output_type": "stream",
     "text": [
      "埼玉県(3)\n",
      "山形県(3)\n",
      "山梨県(3)\n",
      "群馬県(3)\n",
      "千葉県(2)\n",
      "岐阜県(2)\n",
      "愛知県(2)\n",
      "静岡県(2)\n",
      "和歌山県(1)\n",
      "大阪府(1)\n",
      "愛媛県(1)\n",
      "高知県(1)\n"
     ]
    }
   ],
   "source": [
    "# coding: utf-8\n",
    "from itertools import groupby\n",
    "fname = 'hightemp.txt'\n",
    "\n",
    "# 都道府県名の読み込み\n",
    "lines = open(fname).readlines()\n",
    "col1 = [line.split('\\t')[0] for line in lines]\n",
    "\n",
    "# 都道府県で集計し、(都道府県, 出現頻度)のリスト作成\n",
    "col1.sort()    # goupbyはソート済みが前提\n",
    "result = [(pref, len(list(group))) for pref, group in groupby(col1)]\n",
    "# print(result)\n",
    "\n",
    "# 出現頻度でソート\n",
    "result.sort(key=lambda x: x[1], reverse=True)\n",
    "\n",
    "# 結果出力\n",
    "for x in result:\n",
    "    print('{pref}({count})'.format(pref=x[0], count=x[1]))"
   ]
  },
  {
   "cell_type": "code",
   "execution_count": null,
   "metadata": {},
   "outputs": [],
   "source": []
  }
 ],
 "metadata": {
  "kernelspec": {
   "display_name": "Python 3",
   "language": "python",
   "name": "python3"
  },
  "language_info": {
   "codemirror_mode": {
    "name": "ipython",
    "version": 3
   },
   "file_extension": ".py",
   "mimetype": "text/x-python",
   "name": "python",
   "nbconvert_exporter": "python",
   "pygments_lexer": "ipython3",
   "version": "3.7.0"
  }
 },
 "nbformat": 4,
 "nbformat_minor": 2
}
