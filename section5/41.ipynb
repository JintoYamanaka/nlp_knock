{
 "cells": [
  {
   "cell_type": "code",
   "execution_count": 1,
   "metadata": {},
   "outputs": [],
   "source": [
    "import CaboCha"
   ]
  },
  {
   "cell_type": "code",
   "execution_count": 13,
   "metadata": {},
   "outputs": [],
   "source": [
    "with open('neko.txt') as data_file, open('neko.txt.cabocha', mode='w') as out_file:\n",
    "    cabocha = CaboCha.Parser()\n",
    "    # out_file.write(cabocha.parse(data_file.read()).toString(CaboCha.FORMAT_LATTICE))\n",
    "    for line in data_file:\n",
    "       out_file.write(cabocha.parse(line).toString(CaboCha.FORMAT_LATTICE))"
   ]
  },
  {
   "cell_type": "code",
   "execution_count": 16,
   "metadata": {},
   "outputs": [
    {
     "name": "stdout",
     "output_type": "stream",
     "text": [
      "surface[a]\tbase[b]\tpos[d]\tpos1[f]\n"
     ]
    }
   ],
   "source": [
    "class Morph:\n",
    "    '''\n",
    "    形態素クラス\n",
    "    表層形（surface）、基本形（base）、品詞（pos）、品詞細分類1（pos1）を\n",
    "    メンバー変数に持つ\n",
    "    '''\n",
    "    def __init__(self, surface, base, pos, pos1):\n",
    "        # 初期化\n",
    "        self.surface = surface\n",
    "        self.base = base\n",
    "        self.pos = pos\n",
    "        self.pos1 = pos1\n",
    "        \n",
    "    def __str__(self):\n",
    "        # オブジェクトの文字列表現\n",
    "        return 'surface[{}]\\tbase[{}]\\tpos[{}]\\tpos1[{}]'\\\n",
    "            .format(self.surface, self.base, self.pos, self.pos1)\n",
    "    \n",
    "print(Morph('a','b','d','f'))"
   ]
  },
  {
   "cell_type": "code",
   "execution_count": 37,
   "metadata": {},
   "outputs": [
    {
     "name": "stdout",
     "output_type": "stream",
     "text": [
      "surface[　]\tbase[　]\tpos[記号]\tpos1[空白]\n",
      "surface[どこ]\tbase[どこ]\tpos[名詞]\tpos1[代名詞]\n",
      "surface[で]\tbase[で]\tpos[助詞]\tpos1[格助詞]\n",
      "surface[生れ]\tbase[生れる]\tpos[動詞]\tpos1[自立]\n",
      "surface[た]\tbase[た]\tpos[助動詞]\tpos1[*]\n",
      "surface[か]\tbase[か]\tpos[助詞]\tpos1[副助詞／並立助詞／終助詞]\n",
      "surface[とんと]\tbase[とんと]\tpos[副詞]\tpos1[一般]\n",
      "surface[見当]\tbase[見当]\tpos[名詞]\tpos1[サ変接続]\n",
      "surface[が]\tbase[が]\tpos[助詞]\tpos1[格助詞]\n",
      "surface[つか]\tbase[つく]\tpos[動詞]\tpos1[自立]\n",
      "surface[ぬ]\tbase[ぬ]\tpos[助動詞]\tpos1[*]\n",
      "surface[。]\tbase[。]\tpos[記号]\tpos1[句点]\n"
     ]
    }
   ],
   "source": [
    "'''\n",
    "「吾輩は猫である」の係り受け解析結果のジェネレータ\n",
    "「吾輩は猫である」の係り受け解析結果を順次読み込んで、\n",
    "1文ずつMorphクラスのリストを返す\n",
    "\n",
    "戻り値：\n",
    "1文のMorphクラスのリスト\n",
    "'''\n",
    "with open('neko.txt.cabocha') as parsed_file:\n",
    "    \n",
    "    morphs = []\n",
    "    one_sentence_morphs = []\n",
    "    for line in parsed_file:\n",
    "                \n",
    "        # EOSか先頭文字が*ならスキップ\n",
    "        if line == 'EOS\\n' or line[0] == '*':\n",
    "            continue\n",
    "        \n",
    "        cols = line.split('\\t')\n",
    "        elements = cols[1].split(',')\n",
    "        \n",
    "        one_sentence_morphs.append(Morph(\n",
    "            cols[0],        # surface\n",
    "            elements[6],    # base\n",
    "            elements[0],    # pos\n",
    "            elements[1]     # pos1\n",
    "        ))\n",
    "        \n",
    "        if elements[1] == '句点':\n",
    "            morphs.append(one_sentence_morphs)\n",
    "            one_sentence_morphs = []\n",
    "                \n",
    "for morph in morphs[2]: # 3文目\n",
    "    print(morph)"
   ]
  },
  {
   "cell_type": "code",
   "execution_count": null,
   "metadata": {},
   "outputs": [],
   "source": []
  }
 ],
 "metadata": {
  "kernelspec": {
   "display_name": "Python 3",
   "language": "python",
   "name": "python3"
  },
  "language_info": {
   "codemirror_mode": {
    "name": "ipython",
    "version": 3
   },
   "file_extension": ".py",
   "mimetype": "text/x-python",
   "name": "python",
   "nbconvert_exporter": "python",
   "pygments_lexer": "ipython3",
   "version": "3.7.0"
  }
 },
 "nbformat": 4,
 "nbformat_minor": 2
}
