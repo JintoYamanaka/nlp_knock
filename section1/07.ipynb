{
 "cells": [
  {
   "cell_type": "code",
   "execution_count": 20,
   "metadata": {},
   "outputs": [],
   "source": [
    "def func(x, y, z):\n",
    "    return str(x) + \"時の\" + str(y) + \"は\" + str(z)\n",
    "\n",
    "def func2(x, y, z):\n",
    "    return \"{hour}時の{target}は{value}\".format(hour=x, target=y, value=z)\n",
    "\n",
    "def func3(x, y ,z):\n",
    "    return \"{0}時の{1}は{2}\".format(x, y, z)\n",
    "\n",
    "def func4(x, y, z):\n",
    "    return \"%s時の%sは%s\" % (x, y, z) "
   ]
  },
  {
   "cell_type": "code",
   "execution_count": 21,
   "metadata": {},
   "outputs": [
    {
     "name": "stdout",
     "output_type": "stream",
     "text": [
      "12時の気温は22.4\n",
      "12時の気温は22.4\n",
      "12時の気温は22.4\n",
      "12時の気温は22.4\n"
     ]
    }
   ],
   "source": [
    "x = 12\n",
    "y = \"気温\"\n",
    "z = 22.4\n",
    "\n",
    "print(func(x, y, z))\n",
    "print(func2(x, y, z))\n",
    "print(func3(x, y, z))\n",
    "print(func4(x, y, z))"
   ]
  },
  {
   "cell_type": "code",
   "execution_count": null,
   "metadata": {},
   "outputs": [],
   "source": []
  }
 ],
 "metadata": {
  "kernelspec": {
   "display_name": "Python 3",
   "language": "python",
   "name": "python3"
  },
  "language_info": {
   "codemirror_mode": {
    "name": "ipython",
    "version": 3
   },
   "file_extension": ".py",
   "mimetype": "text/x-python",
   "name": "python",
   "nbconvert_exporter": "python",
   "pygments_lexer": "ipython3",
   "version": "3.7.0"
  }
 },
 "nbformat": 4,
 "nbformat_minor": 2
}
