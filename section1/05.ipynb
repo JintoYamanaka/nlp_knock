{
 "cells": [
  {
   "cell_type": "code",
   "execution_count": 23,
   "metadata": {},
   "outputs": [],
   "source": [
    "def n_gram(str, n):\n",
    "    result = []\n",
    "#     str = str.split(\" \")\n",
    "    \n",
    "    for i in range(len(str) - n + 1): # - n + 1 がないと、余った文字 or 単語も追加される\n",
    "        result.append(str[i:i+n]) # リストの中にリストを追加\n",
    "        \n",
    "    return result"
   ]
  },
  {
   "cell_type": "code",
   "execution_count": 24,
   "metadata": {
    "scrolled": true
   },
   "outputs": [
    {
     "name": "stdout",
     "output_type": "stream",
     "text": [
      "文字bi-gram\n",
      "['I ', ' a', 'am', 'm ', ' a', 'an', 'n ', ' N', 'NL', 'LP', 'Pe', 'er']\n"
     ]
    }
   ],
   "source": [
    "str = \"I am an NLPer\"\n",
    "char_bi_gram = n_gram(str, 2)\n",
    "print(\"文字bi-gram\")\n",
    "print(char_bi_gram)"
   ]
  },
  {
   "cell_type": "code",
   "execution_count": 25,
   "metadata": {},
   "outputs": [
    {
     "name": "stdout",
     "output_type": "stream",
     "text": [
      "単語bi-gram\n",
      "[['I', 'am'], ['am', 'an'], ['an', 'NLPer']]\n"
     ]
    }
   ],
   "source": [
    "str2 = str.split(\" \")\n",
    "word_bi_gram = n_gram(str2, 2) \n",
    "print(\"単語bi-gram\")\n",
    "print(word_bi_gram)"
   ]
  },
  {
   "cell_type": "code",
   "execution_count": 26,
   "metadata": {},
   "outputs": [
    {
     "name": "stdout",
     "output_type": "stream",
     "text": [
      "文字uni-gram\n",
      "['I', ' ', 'a', 'm', ' ', 'a', 'n', ' ', 'N', 'L', 'P', 'e', 'r']\n",
      "\n",
      "単語uni-gram\n",
      "[['I'], ['am'], ['an'], ['NLPer']]\n",
      "\n",
      "文字tri-gram\n",
      "['I a', ' am', 'am ', 'm a', ' an', 'an ', 'n N', ' NL', 'NLP', 'LPe', 'Per']\n",
      "\n",
      "単語tri-gram\n",
      "[['I', 'am', 'an'], ['am', 'an', 'NLPer']]\n"
     ]
    }
   ],
   "source": [
    "char_uni_gram = n_gram(str, 1)\n",
    "print(\"文字uni-gram\")\n",
    "print(char_uni_gram)\n",
    "\n",
    "word_uni_gram = n_gram(str2, 1)\n",
    "print(\"\\n単語uni-gram\")\n",
    "print(word_uni_gram)\n",
    "\n",
    "char_tri_gram = n_gram(str, 3)\n",
    "print(\"\\n文字tri-gram\")\n",
    "print(char_tri_gram)\n",
    "\n",
    "word_tri_gram = n_gram(str2, 3)\n",
    "print(\"\\n単語tri-gram\")\n",
    "print(word_tri_gram)"
   ]
  },
  {
   "cell_type": "code",
   "execution_count": null,
   "metadata": {},
   "outputs": [],
   "source": []
  }
 ],
 "metadata": {
  "kernelspec": {
   "display_name": "Python 3",
   "language": "python",
   "name": "python3"
  },
  "language_info": {
   "codemirror_mode": {
    "name": "ipython",
    "version": 3
   },
   "file_extension": ".py",
   "mimetype": "text/x-python",
   "name": "python",
   "nbconvert_exporter": "python",
   "pygments_lexer": "ipython3",
   "version": "3.7.0"
  }
 },
 "nbformat": 4,
 "nbformat_minor": 2
}
