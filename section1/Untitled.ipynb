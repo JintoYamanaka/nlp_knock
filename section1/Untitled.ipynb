{
 "cells": [
  {
   "cell_type": "code",
   "execution_count": 1,
   "metadata": {},
   "outputs": [],
   "source": [
    "def n_gram(str, n):\n",
    "    result = []\n",
    "    \n",
    "    for i in range(len(str) - n + 1): # - n + 1 がないと、余った文字 or 単語も追加される\n",
    "        result.append(str[i:i+n]) # リストの中にリストを追加\n",
    "        \n",
    "    return result"
   ]
  },
  {
   "cell_type": "code",
   "execution_count": 15,
   "metadata": {},
   "outputs": [
    {
     "name": "stdout",
     "output_type": "stream",
     "text": [
      "['pa', 'ar', 'ra', 'ap', 'pa', 'ar', 'ra', 'ap', 'pa', 'ar', 'ra', 'ad', 'di', 'is', 'se']\n",
      "['pa', 'ar', 'ra', 'ag', 'gr', 'ra', 'ap', 'ph']\n",
      "\n",
      "set型\n",
      "{'ra', 'di', 'ad', 'ar', 'ap', 'is', 'pa', 'se'}\n",
      "{'ph', 'ra', 'gr', 'ar', 'ag', 'ap', 'pa'}\n"
     ]
    }
   ],
   "source": [
    "str1 = \"paraparaparadise\"\n",
    "str2 = \"paragraph\"\n",
    "\n",
    "X = n_gram(str1, 2)\n",
    "Y = n_gram(str2, 2)\n",
    "\n",
    "print(X)\n",
    "print(Y, end=\"\\n\\n\")\n",
    "\n",
    "'''\n",
    "set型に変換\n",
    "set型＝集合を扱うための型\n",
    "'''\n",
    "X = set(X)\n",
    "Y = set(Y)\n",
    "print(\"set型\")\n",
    "print(X)\n",
    "print(Y)"
   ]
  },
  {
   "cell_type": "code",
   "execution_count": 16,
   "metadata": {},
   "outputs": [
    {
     "name": "stdout",
     "output_type": "stream",
     "text": [
      "和集合\n",
      "{'ph', 'ra', 'gr', 'di', 'ad', 'ar', 'ag', 'ap', 'is', 'pa', 'se'}\n",
      "\n",
      "積集合\n",
      "{'ap', 'ra', 'pa', 'ar'}\n",
      "\n",
      "差集合\n",
      "{'ad', 'is', 'di', 'se'}\n"
     ]
    }
   ],
   "source": [
    "# 和集合\n",
    "set_or = X | Y\n",
    "print(\"和集合\")\n",
    "print(set_or, end=\"\\n\\n\")\n",
    "\n",
    "# 積集合\n",
    "set_and = X & Y\n",
    "print(\"積集合\")\n",
    "print(set_and, end=\"\\n\\n\")\n",
    "\n",
    "# 差集合\n",
    "set_sub = X - Y\n",
    "print(\"差集合\")\n",
    "print(set_sub)"
   ]
  },
  {
   "cell_type": "code",
   "execution_count": null,
   "metadata": {},
   "outputs": [],
   "source": [
    "print(\"Xにseが含まれるか？\")\n",
    "print(if \"se\" in X)\n",
    "print(\"\\n\")\n",
    "print(\"Xにseが含まれるか？\")\n",
    "print(if \"se\" in X)"
   ]
  }
 ],
 "metadata": {
  "kernelspec": {
   "display_name": "Python 3",
   "language": "python",
   "name": "python3"
  },
  "language_info": {
   "codemirror_mode": {
    "name": "ipython",
    "version": 3
   },
   "file_extension": ".py",
   "mimetype": "text/x-python",
   "name": "python",
   "nbconvert_exporter": "python",
   "pygments_lexer": "ipython3",
   "version": "3.7.0"
  }
 },
 "nbformat": 4,
 "nbformat_minor": 2
}
