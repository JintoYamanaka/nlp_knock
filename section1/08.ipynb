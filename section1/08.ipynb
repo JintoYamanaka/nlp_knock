{
 "cells": [
  {
   "cell_type": "code",
   "execution_count": 51,
   "metadata": {},
   "outputs": [],
   "source": [
    "def cipher(str):\n",
    "    result = \"\"\n",
    "    for char in str:\n",
    "        if char.islower():\n",
    "            '''\n",
    "            ord() → 文字のアスキーコードを取得\n",
    "            逆はchr()\n",
    "            '''\n",
    "            result += chr(219 - ord(char))\n",
    "        else:\n",
    "            result += char\n",
    "#         print(result)\n",
    "    return result"
   ]
  },
  {
   "cell_type": "code",
   "execution_count": 52,
   "metadata": {},
   "outputs": [
    {
     "name": "stdout",
     "output_type": "stream",
     "text": [
      "AAp_zzzz\n",
      "AAk_aaaa\n"
     ]
    }
   ],
   "source": [
    "print(cipher(\"AAk_aaaa\"))\n",
    "print(cipher(\"AAp_zzzz\"))"
   ]
  },
  {
   "cell_type": "code",
   "execution_count": 47,
   "metadata": {},
   "outputs": [
    {
     "name": "stdout",
     "output_type": "stream",
     "text": [
      "文字列を入力してください--> qqqqqqaASDFew\n"
     ]
    }
   ],
   "source": [
    "target = input(\"文字列を入力してください--> \")"
   ]
  },
  {
   "cell_type": "code",
   "execution_count": 54,
   "metadata": {},
   "outputs": [
    {
     "name": "stdout",
     "output_type": "stream",
     "text": [
      "暗号化：jjjjjjzASDFvd\n"
     ]
    }
   ],
   "source": [
    "result = cipher(target)\n",
    "print(\"暗号化：\" + result)"
   ]
  },
  {
   "cell_type": "code",
   "execution_count": 56,
   "metadata": {},
   "outputs": [
    {
     "name": "stdout",
     "output_type": "stream",
     "text": [
      "復号化：qqqqqqaASDFew\n"
     ]
    }
   ],
   "source": [
    "result2 = cipher(result)\n",
    "print(\"復号化：\" + result2)"
   ]
  },
  {
   "cell_type": "code",
   "execution_count": null,
   "metadata": {},
   "outputs": [],
   "source": []
  }
 ],
 "metadata": {
  "kernelspec": {
   "display_name": "Python 3",
   "language": "python",
   "name": "python3"
  },
  "language_info": {
   "codemirror_mode": {
    "name": "ipython",
    "version": 3
   },
   "file_extension": ".py",
   "mimetype": "text/x-python",
   "name": "python",
   "nbconvert_exporter": "python",
   "pygments_lexer": "ipython3",
   "version": "3.7.0"
  }
 },
 "nbformat": 4,
 "nbformat_minor": 2
}
