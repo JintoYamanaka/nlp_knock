{
 "cells": [
  {
   "cell_type": "code",
   "execution_count": 49,
   "metadata": {},
   "outputs": [],
   "source": [
    "import random\n",
    "\n",
    "def Typoglycemia(string):\n",
    "    words = string.split(\" \")\n",
    "#     result = \"\"\n",
    "    result = []\n",
    "    for word in words:\n",
    "        if len(word) <= 4:\n",
    "            result.append(word)\n",
    "        else:\n",
    "            # シャッフルするため、リストに変換\n",
    "            let_list = list(word[1:-1]) \n",
    "            random.shuffle(let_list)\n",
    "            new_word = word[0] + \"\".join(let_list) + word[-1]\n",
    "            result.append(new_word)\n",
    "    return \" \".join(result)\n",
    "\n",
    "def Typoglycemia2(string):\n",
    "    words = string.split(\" \")\n",
    "    result = \"\"\n",
    "    for word in words:\n",
    "        if len(word) > 4:\n",
    "            # シャッフルするため、リストに変換\n",
    "            let_list = list(word[1:-1]) \n",
    "            random.shuffle(let_list)\n",
    "            word = word[0] + \"\".join(let_list) + word[-1]\n",
    "        result += word\n",
    "        result += \" \"\n",
    "    return result"
   ]
  },
  {
   "cell_type": "code",
   "execution_count": 7,
   "metadata": {},
   "outputs": [
    {
     "name": "stdout",
     "output_type": "stream",
     "text": [
      "文字列を入力してください：I couldn't believe that I could actually understand what I was reading : the phenomenal power of the human mind .\n"
     ]
    }
   ],
   "source": [
    "string = input(\"文字列を入力してください：\")"
   ]
  },
  {
   "cell_type": "code",
   "execution_count": 38,
   "metadata": {},
   "outputs": [
    {
     "data": {
      "text/plain": [
       "\"I clundo't bievele that I culod atlulacy unanesdtrd what I was raeding : the pnmheenaol pweor of the haumn mind .\""
      ]
     },
     "execution_count": 38,
     "metadata": {},
     "output_type": "execute_result"
    }
   ],
   "source": [
    "Typoglycemia(string)"
   ]
  },
  {
   "cell_type": "code",
   "execution_count": 51,
   "metadata": {},
   "outputs": [
    {
     "data": {
      "text/plain": [
       "\"I cuolnd't bveiele that I colud acltlauy uarsnnedtd what I was ranideg : the phnnoaeeml pweor of the haumn mind . \""
      ]
     },
     "execution_count": 51,
     "metadata": {},
     "output_type": "execute_result"
    }
   ],
   "source": [
    "Typoglycemia2(string)"
   ]
  },
  {
   "cell_type": "code",
   "execution_count": null,
   "metadata": {},
   "outputs": [],
   "source": []
  },
  {
   "cell_type": "code",
   "execution_count": null,
   "metadata": {},
   "outputs": [],
   "source": []
  }
 ],
 "metadata": {
  "kernelspec": {
   "display_name": "Python 3",
   "language": "python",
   "name": "python3"
  },
  "language_info": {
   "codemirror_mode": {
    "name": "ipython",
    "version": 3
   },
   "file_extension": ".py",
   "mimetype": "text/x-python",
   "name": "python",
   "nbconvert_exporter": "python",
   "pygments_lexer": "ipython3",
   "version": "3.7.0"
  }
 },
 "nbformat": 4,
 "nbformat_minor": 2
}
