{
 "cells": [
  {
   "cell_type": "code",
   "execution_count": 1,
   "metadata": {},
   "outputs": [],
   "source": [
    "from mymodule import extract_text\n",
    "\n",
    "text = extract_text(\"イギリス\")"
   ]
  },
  {
   "cell_type": "code",
   "execution_count": 2,
   "metadata": {},
   "outputs": [
    {
     "data": {
      "text/plain": [
       "'\\nre.compile(pattern, flags=0)\\n式の動作は、 flags の値を指定することで加減することができる\\nMULTILINEやVERBOSEのような変数を、ビットごとの OR ( | 演算子)を使って組み合わせることができる\\n詳細 → https://docs.python.jp/3/library/re.html\\n'"
      ]
     },
     "execution_count": 2,
     "metadata": {},
     "output_type": "execute_result"
    }
   ],
   "source": [
    "import re# 正規表現のコンパイル\n",
    "re_pattern = re.compile(r\"\"\"\n",
    "    ^               # 行頭\n",
    "    (               # キャプチャ対象のグループ開始\n",
    "    .*              # 任意の文字0文字以上\n",
    "    \\[\\[Category:   # メタ文字の[を\\でエスケープ\n",
    "    .*              # 任意の文字0文字以上\n",
    "    \\]\\]            # メタ文字の]を\\でエスケープ\n",
    "    .*              # 任意の文字0文字以上\n",
    "    )               # グループ終了\n",
    "    $               # 行末\n",
    "    \"\"\", re.MULTILINE | re.VERBOSE)\n",
    "\n",
    "'''\n",
    "re.compile(pattern, flags=0)\n",
    "式の動作は、 flags の値を指定することで加減することができる\n",
    "MULTILINEやVERBOSEのような変数を、ビットごとの OR ( | 演算子)を使って組み合わせることができる\n",
    "詳細 → https://docs.python.jp/3/library/re.html\n",
    "'''"
   ]
  },
  {
   "cell_type": "code",
   "execution_count": 3,
   "metadata": {},
   "outputs": [
    {
     "name": "stdout",
     "output_type": "stream",
     "text": [
      "[[Category:イギリス|*]]\n",
      "[[Category:英連邦王国|*]]\n",
      "[[Category:G8加盟国]]\n",
      "[[Category:欧州連合加盟国]]\n",
      "[[Category:海洋国家]]\n",
      "[[Category:君主国]]\n",
      "[[Category:島国|くれいとふりてん]]\n",
      "[[Category:1801年に設立された州・地域]]\n"
     ]
    }
   ],
   "source": [
    "# 抽出\n",
    "result = re_pattern.findall(text)\n",
    "for line in result:\n",
    "    print(line)"
   ]
  },
  {
   "cell_type": "code",
   "execution_count": 4,
   "metadata": {},
   "outputs": [
    {
     "name": "stdout",
     "output_type": "stream",
     "text": [
      "[[Category:イギリス|*]]\n",
      "[[Category:英連邦王国|*]]\n",
      "[[Category:G8加盟国]]\n",
      "[[Category:欧州連合加盟国]]\n",
      "[[Category:海洋国家]]\n",
      "[[Category:君主国]]\n",
      "[[Category:島国|くれいとふりてん]]\n",
      "[[Category:1801年に設立された州・地域]]\n"
     ]
    }
   ],
   "source": [
    "# 別解\n",
    "lines = extract_text(\"イギリス\").split(\"\\n\")\n",
    "\n",
    "for line in lines:\n",
    "    if \"Category\" in line:\n",
    "        print(line)"
   ]
  },
  {
   "cell_type": "code",
   "execution_count": null,
   "metadata": {},
   "outputs": [],
   "source": []
  }
 ],
 "metadata": {
  "kernelspec": {
   "display_name": "Python 3",
   "language": "python",
   "name": "python3"
  },
  "language_info": {
   "codemirror_mode": {
    "name": "ipython",
    "version": 3
   },
   "file_extension": ".py",
   "mimetype": "text/x-python",
   "name": "python",
   "nbconvert_exporter": "python",
   "pygments_lexer": "ipython3",
   "version": "3.7.0"
  }
 },
 "nbformat": 4,
 "nbformat_minor": 2
}
